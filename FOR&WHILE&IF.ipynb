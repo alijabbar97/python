{
 "cells": [
  {
   "cell_type": "code",
   "execution_count": 1,
   "id": "2c15fe56",
   "metadata": {},
   "outputs": [
    {
     "name": "stdout",
     "output_type": "stream",
     "text": [
      "1) square\n",
      "2) triangle\n",
      "choose : 1\n",
      "enter a lengh: 10\n",
      "100\n"
     ]
    }
   ],
   "source": [
    "import math\n",
    "print(\"1) square\")\n",
    "print(\"2) triangle\")\n",
    "choose =input('choose : ')\n",
    "\n",
    "if choose=='1':\n",
    "    lengh=int(input('enter a lengh: '))\n",
    "    area=(lengh)**2\n",
    "    print(area)\n",
    "elif choose=='2':\n",
    "    hight=int(input('enter a hight: '))\n",
    "    base=int(input('enter a base: '))\n",
    "    area=0.5*hight*base\n",
    "    print(area)\n",
    "else:\n",
    "     print(\"error input\")"
   ]
  },
  {
   "cell_type": "code",
   "execution_count": 2,
   "id": "52b6e3e6",
   "metadata": {},
   "outputs": [
    {
     "name": "stdout",
     "output_type": "stream",
     "text": [
      "enter your name: ali\n",
      "how mant times you want repated: 3\n",
      "a\n",
      "l\n",
      "i\n",
      "a\n",
      "l\n",
      "i\n",
      "a\n",
      "l\n",
      "i\n"
     ]
    }
   ],
   "source": [
    "name=input('enter your name: ')\n",
    "number=int(input(\"how mant times you want repated: \"))\n",
    "for i in range (0,number):\n",
    "    for x in name:\n",
    "      print(x)"
   ]
  },
  {
   "cell_type": "code",
   "execution_count": 3,
   "id": "725d8204",
   "metadata": {},
   "outputs": [
    {
     "name": "stdout",
     "output_type": "stream",
     "text": [
      "enter num less than 50 : 45\n",
      "50\n",
      "49\n",
      "48\n",
      "47\n",
      "46\n",
      "45\n"
     ]
    }
   ],
   "source": [
    "num=int(input('enter num less than 50 : '))\n",
    "for i in range(50,num-1,-1):\n",
    "    print(i)"
   ]
  },
  {
   "cell_type": "code",
   "execution_count": 5,
   "id": "e456b0f7",
   "metadata": {},
   "outputs": [
    {
     "name": "stdout",
     "output_type": "stream",
     "text": [
      "enter a number 1: 10\n",
      "do want that number included? no\n",
      "enter a number 2: 10\n",
      "do want that number included? no\n",
      "enter a number 3: 10\n",
      "do want that number included? no\n",
      "enter a number 4: 10\n",
      "do want that number included? yes\n",
      "enter a number 5: 10\n",
      "do want that number included? yes\n",
      "20\n"
     ]
    }
   ],
   "source": [
    "total=0\n",
    "num1= int(input('enter a number 1: '))\n",
    "ask1= input('do want that number included? ').lower()\n",
    "if ask1=='yes':\n",
    "    total+=num1\n",
    "num2= int(input('enter a number 2: '))\n",
    "ask2= input('do want that number included? ').lower()\n",
    "if ask2=='yes':\n",
    "    total+=num2\n",
    "num3= int(input('enter a number 3: '))\n",
    "ask3= input('do want that number included? ').lower()\n",
    "if ask3=='yes':\n",
    "    total+=num3\n",
    "num4= int(input('enter a number 4: '))\n",
    "ask4= input('do want that number included? ').lower()\n",
    "if ask4=='yes':\n",
    "    total+=num4\n",
    "num5= int(input('enter a number 5: '))\n",
    "ask5= input('do want that number included? ').lower()\n",
    "if ask5=='yes':\n",
    "    total+=num5\n",
    "print(total)\n"
   ]
  },
  {
   "cell_type": "code",
   "execution_count": 6,
   "id": "c9566b0f",
   "metadata": {},
   "outputs": [
    {
     "name": "stdout",
     "output_type": "stream",
     "text": [
      "which direction the user wants to count (up or down)? up\n",
      "top number : 10\n",
      "1\n",
      "2\n",
      "3\n",
      "4\n",
      "5\n",
      "6\n",
      "7\n",
      "8\n",
      "9\n",
      "10\n"
     ]
    }
   ],
   "source": [
    "direction=input('which direction the user wants to count (up or down)? ').lower()\n",
    "if direction=='up':\n",
    "    num=int(input('top number : '))\n",
    "    for i in range(1,num+1,+1):\n",
    "        print(i)\n",
    "elif direction=='down':\n",
    "    num=int(input('enter a num less than 20 : '))\n",
    "    for i in range(num,0,-1):\n",
    "        print(i)\n",
    "else:\n",
    "    print(\"I do'nt understand \" )"
   ]
  },
  {
   "cell_type": "code",
   "execution_count": 8,
   "id": "36088014",
   "metadata": {},
   "outputs": [
    {
     "name": "stdout",
     "output_type": "stream",
     "text": [
      "how many people the user wants to invite to a party? 3\n",
      "enter his name: ALI\n",
      "ALI has been invited\n",
      "enter his name: AHMED\n",
      "AHMED has been invited\n",
      "enter his name: YESAIR\n",
      "YESAIR has been invited\n"
     ]
    }
   ],
   "source": [
    "user= int(input('how many people the user wants to invite to a party? '))\n",
    "if user<10:\n",
    "     for i in range(0,user):\n",
    "        name=input('enter his name: ')\n",
    "        print(f'{name} has been invited')\n",
    "    \n",
    "else:\n",
    "   print(\"too many people\")"
   ]
  },
  {
   "cell_type": "code",
   "execution_count": 11,
   "id": "de6592a3",
   "metadata": {},
   "outputs": [
    {
     "name": "stdout",
     "output_type": "stream",
     "text": [
      "enter a name: ali\n",
      "enter a name: ahmed\n",
      "enter a name: omar\n",
      "['ali', 'ahmed', 'omar']\n",
      "Do you want to add another: yes\n",
      "enter a name: jafer\n",
      "Do you want to add another: no\n",
      "you invited 4 people to the party\n",
      "['ali', 'ahmed', 'omar', 'jafer']\n",
      "type in one of the names on the list :ali\n",
      "0\n",
      "do you still want him to come to the party: yes/noyes\n",
      "['ali', 'ahmed', 'omar', 'jafer']\n"
     ]
    }
   ],
   "source": [
    "name1=input('enter a name: ')\n",
    "name2=input('enter a name: ')\n",
    "name3=input('enter a name: ')\n",
    "list=[name1,name2,name3]\n",
    "print(list)\n",
    "\n",
    "ask=input('Do you want to add another: ').lower()\n",
    "if ask==\"yes\":\n",
    "    while ask=='yes':\n",
    "        name=list.append(input('enter a name: '))\n",
    "        ask=input('Do you want to add another: ').lower()\n",
    "    count=len(list)\n",
    "    print(f\"you invited {count} people to the party\")\n",
    "    print(list)\n",
    "elif ask=='no':\n",
    "    print(list)\n",
    "else:\n",
    "    print(\"i dont understand\")\n",
    "    \n",
    "enter=input('type in one of the names on the list :').lower()\n",
    "print(list.index(enter))\n",
    "want=input('do you still want him to come to the party: yes/no').lower()\n",
    "if want=='no':\n",
    "    list.remove(enter)\n",
    "    print(list)\n",
    "else:\n",
    "    print(list)"
   ]
  },
  {
   "cell_type": "code",
   "execution_count": 12,
   "id": "99079ea8",
   "metadata": {},
   "outputs": [
    {
     "name": "stdout",
     "output_type": "stream",
     "text": [
      "sport\n",
      "talent\n",
      "flim\n",
      "economy\n",
      "enter another show : comedy\n",
      "enter a position you want 0-4: 2\n",
      "['sport', 'talent', 'comedy', 'flim', 'economy']\n"
     ]
    }
   ],
   "source": [
    "tv=['sport','talent','flim','economy']\n",
    "for i in tv:\n",
    "    print(i)\n",
    "user=input('enter another show : ')\n",
    "postion=int(input('enter a position you want 0-4: '))\n",
    "tv.insert(postion,user)\n",
    "print(tv)"
   ]
  },
  {
   "cell_type": "code",
   "execution_count": 1,
   "id": "ba4dd23e",
   "metadata": {},
   "outputs": [
    {
     "name": "stdout",
     "output_type": "stream",
     "text": [
      "enter a num: 5\n",
      "[5]\n",
      "enter a num: 5\n",
      "[5, 5]\n",
      "enter a num: 6\n",
      "[5, 5, 6]\n",
      "do you want save last number in nums: yes / no  no\n",
      "[5, 5]\n"
     ]
    }
   ],
   "source": [
    "nums=[]\n",
    "i=1\n",
    "while i<=3:\n",
    "    i=i+1\n",
    "    user=int(input('enter a num: '))\n",
    "    nums.append(user)\n",
    "    print(nums)\n",
    "ask=input('do you want save last number in nums: yes / no  ')\n",
    "if ask=='no':\n",
    "    nums.pop()\n",
    "    print(nums)\n",
    "else:\n",
    "    print(nums)\n"
   ]
  },
  {
   "cell_type": "code",
   "execution_count": 2,
   "id": "8773b790",
   "metadata": {},
   "outputs": [
    {
     "name": "stdout",
     "output_type": "stream",
     "text": [
      "H*e*l*l*o*enter your name: Ali\n",
      "3\n",
      "enter your surname: Jabbar\n",
      "6\n",
      "Ali Jabbar\n",
      "the length of full_name is 10\n",
      "what is your favorite subject: Math\n",
      "M-a-t-h-"
     ]
    }
   ],
   "source": [
    "msg='Hello' \n",
    "for letter in msg: \n",
    "    print(letter,end='*') \n",
    "\n",
    "name=input('enter your name: ')\n",
    "print(len(name))\n",
    "surname=input('enter your surname: ')\n",
    "print(len(surname))\n",
    "full_name= name+' '+surname\n",
    "print(full_name)\n",
    "print(f'the length of full_name is {len(full_name)}')\n",
    "\n",
    "ask=input('what is your favorite subject: ')\n",
    "for i in ask : \n",
    "    print(i,end='-')"
   ]
  },
  {
   "cell_type": "code",
   "execution_count": 3,
   "id": "9af9a0a6",
   "metadata": {},
   "outputs": [
    {
     "name": "stdout",
     "output_type": "stream",
     "text": [
      "enter a word in uppercase: apple\n",
      "try again\n",
      "enter a word in uppercase: APPLE\n",
      "thank you\n",
      "AP\n"
     ]
    }
   ],
   "source": [
    "ask=input('enter a word in uppercase: ')\n",
    "bol=False\n",
    "while bol==False:\n",
    "        if ask.isupper():\n",
    "            bol=True\n",
    "            print('thank you')\n",
    "            \n",
    "        else:\n",
    "            print('try again')\n",
    "            ask=input('enter a word in uppercase: ')\n",
    "print(ask[0:2])  \n"
   ]
  },
  {
   "cell_type": "code",
   "execution_count": 5,
   "id": "61cea474",
   "metadata": {},
   "outputs": [
    {
     "name": "stdout",
     "output_type": "stream",
     "text": [
      "enter a new password: ALIJABBAR\n",
      "enter the password again: alijabbar\n",
      "they must be in same case\n"
     ]
    }
   ],
   "source": [
    "\n",
    "user=input('enter a new password: ')\n",
    "again=input('enter the password again: ')\n",
    "\n",
    "if user==again:\n",
    "      print('thank you')\n",
    "elif user.lower()==again.lower():\n",
    "      print('they must be in same case')\n",
    "else:\n",
    "      print('incorrect')"
   ]
  },
  {
   "cell_type": "code",
   "execution_count": null,
   "id": "3922cf21",
   "metadata": {},
   "outputs": [],
   "source": []
  },
  {
   "cell_type": "code",
   "execution_count": null,
   "id": "4b9ba5f3",
   "metadata": {},
   "outputs": [],
   "source": []
  }
 ],
 "metadata": {
  "kernelspec": {
   "display_name": "Python 3 (ipykernel)",
   "language": "python",
   "name": "python3"
  },
  "language_info": {
   "codemirror_mode": {
    "name": "ipython",
    "version": 3
   },
   "file_extension": ".py",
   "mimetype": "text/x-python",
   "name": "python",
   "nbconvert_exporter": "python",
   "pygments_lexer": "ipython3",
   "version": "3.9.12"
  }
 },
 "nbformat": 4,
 "nbformat_minor": 5
}
