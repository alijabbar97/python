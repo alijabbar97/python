{
 "cells": [
  {
   "cell_type": "code",
   "execution_count": 1,
   "id": "7f6197de",
   "metadata": {},
   "outputs": [
    {
     "name": "stdout",
     "output_type": "stream",
     "text": [
      "what is your name? ALI\n",
      "Hi ALI\n",
      "what is your favourite colorRED\n",
      "favourite color is RED\n",
      "your brith year: 1997\n",
      " your age is :  25\n"
     ]
    }
   ],
   "source": [
    "name = input (\"what is your name? \")\n",
    "print (\"Hi \"+ name)\n",
    "color = input (\"what is your favourite color\")\n",
    "print ('favourite color is '+ color)\n",
    "\n",
    "brith_year=input (\"your brith year: \")\n",
    "age = 2022 - int (brith_year)\n",
    "print(' your age is : ' , age)"
   ]
  },
  {
   "cell_type": "code",
   "execution_count": 2,
   "id": "313a55a5",
   "metadata": {},
   "outputs": [
    {
     "name": "stdout",
     "output_type": "stream",
     "text": [
      "wieght in ib: 150\n",
      "wieght_kg :  68.10000000000001\n"
     ]
    }
   ],
   "source": [
    "wieght_ib = input(\"wieght in ib: \")\n",
    "wieght_kg = int (wieght_ib) * 0.454\n",
    "print ('wieght_kg : ',wieght_kg)"
   ]
  },
  {
   "cell_type": "code",
   "execution_count": 3,
   "id": "038083bc",
   "metadata": {},
   "outputs": [
    {
     "name": "stdout",
     "output_type": "stream",
     "text": [
      "20\n",
      "Python for begginers\n",
      "0\n",
      "python for absolute begginers\n",
      "True\n"
     ]
    }
   ],
   "source": [
    "course = 'python for begginers'  \n",
    "print(len(course))\n",
    "print(course.capitalize())\n",
    "print (course.find ('p'))\n",
    "print(course.replace('begginers','absolute begginers'))\n",
    "print('python' in course)"
   ]
  },
  {
   "cell_type": "code",
   "execution_count": 4,
   "id": "b9d2b854",
   "metadata": {},
   "outputs": [
    {
     "name": "stdout",
     "output_type": "stream",
     "text": [
      "you are not arab person\n"
     ]
    }
   ],
   "source": [
    "is_man = False\n",
    "is_arab = False\n",
    "\n",
    "if is_man and is_arab :\n",
    "    print (\"you are a arab man\")\n",
    "elif is_man and not (is_arab):\n",
    "    print(\"you are not an arab man\")\n",
    "elif not (is_man) and (is_arab):\n",
    "    print(\"you are an arab woman\")\n",
    "else :\n",
    "    print(\"you are not arab person\")"
   ]
  },
  {
   "cell_type": "code",
   "execution_count": 5,
   "id": "0613fbe5",
   "metadata": {},
   "outputs": [
    {
     "name": "stdout",
     "output_type": "stream",
     "text": [
      "good inter\n"
     ]
    }
   ],
   "source": [
    "name = \"john\"\n",
    "\n",
    "if len(name) < 3 :\n",
    "    print(\"name at laest 3 characters\")\n",
    "elif len(name) > 50 :\n",
    "    print(\"name must be less thsn 50 characters\")\n",
    "else:\n",
    "    print(\"good inter\")\n"
   ]
  },
  {
   "cell_type": "code",
   "execution_count": 6,
   "id": "1e2e0aaa",
   "metadata": {},
   "outputs": [
    {
     "name": "stdout",
     "output_type": "stream",
     "text": [
      "weight:150\n",
      "(L)bs or (K)kg:L\n",
      "your weighr is 68.10000000000001 kg\n"
     ]
    }
   ],
   "source": [
    "weight= int(input(\"weight:\"))\n",
    "unit= input (\"(L)bs or (K)kg:\")\n",
    "if unit.upper() ==\"K\":\n",
    "    converted = weight / 0.454\n",
    "    print(f\"your weight is {converted} bs\")\n",
    "else:\n",
    "    converted= weight * 0.454\n",
    "    print (f\"your weighr is {converted} kg\")\n"
   ]
  },
  {
   "cell_type": "code",
   "execution_count": 7,
   "id": "8b6c63b4",
   "metadata": {},
   "outputs": [
    {
     "name": "stdout",
     "output_type": "stream",
     "text": [
      "2\n",
      "4\n",
      "6\n",
      "8\n",
      "10\n",
      "finshed\n"
     ]
    }
   ],
   "source": [
    "#loops\n",
    "i=2\n",
    "while i <= 10:\n",
    "    print(i)\n",
    "    i +=2\n",
    "    if i > 10 :\n",
    "        print(\"finshed\")"
   ]
  },
  {
   "cell_type": "code",
   "execution_count": null,
   "id": "37b6d0f6",
   "metadata": {},
   "outputs": [],
   "source": [
    "#guess-game\n",
    "secret=9\n",
    "guess_count=0\n",
    "guess_num=3\n",
    "while guess_count<guess_num:\n",
    "        guess=int(input('enter a guess: '))\n",
    "        guess_count +=1 \n",
    "if guess == secret:\n",
    "    print(\"you won!\") \n",
    "    break\n",
    "else:\n",
    "    print(\"sorry, you failed\")\n"
   ]
  },
  {
   "cell_type": "code",
   "execution_count": 1,
   "id": "66957af0",
   "metadata": {},
   "outputs": [
    {
     "name": "stdout",
     "output_type": "stream",
     "text": [
      "[1, 5, 4]\n",
      "2\n",
      "6\n",
      "20\n"
     ]
    }
   ],
   "source": [
    "matrix = [\n",
    "    [1,5,4],\n",
    "    [2,5,8],\n",
    "    [7,8,6]\n",
    "   ]\n",
    "\n",
    "print(matrix[0])\n",
    "print(matrix[1][0])\n",
    "print(matrix[2][2])\n",
    "\n",
    "\n",
    "matrix[0][1]=20\n",
    "print(matrix[0][1])\n"
   ]
  },
  {
   "cell_type": "code",
   "execution_count": 3,
   "id": "693553ce",
   "metadata": {},
   "outputs": [
    {
     "name": "stdout",
     "output_type": "stream",
     "text": [
      "friday\n"
     ]
    }
   ],
   "source": [
    "week={\n",
    "    \"sat\":\"satarday\",\n",
    "    \"sun\":\"sanday\",\n",
    "    \"man\":\"monday\",\n",
    "    \"tus\":\"tuseday\",\n",
    "    \"wend\":\"wendseday\",\n",
    "    \"thur\":\"thursaday\",\n",
    "    \"fri\":\"friday\"\n",
    "}\n",
    "print(week [\"fri\"])\n",
    "## print(week.get(\"Fri\", \"please try again\"))"
   ]
  },
  {
   "cell_type": "code",
   "execution_count": 4,
   "id": "92c66a0a",
   "metadata": {},
   "outputs": [
    {
     "name": "stdout",
     "output_type": "stream",
     "text": [
      "False\n"
     ]
    }
   ],
   "source": [
    "ali={\"ali\":\"ahmed\"}\n",
    "print(\"mohhamed\" in ali)"
   ]
  },
  {
   "cell_type": "code",
   "execution_count": 5,
   "id": "bbdaacce",
   "metadata": {},
   "outputs": [
    {
     "name": "stdout",
     "output_type": "stream",
     "text": [
      "9\n"
     ]
    }
   ],
   "source": [
    "numbers=[1,2,5,9,8,7]\n",
    "max=numbers[0]\n",
    "for number in numbers:\n",
    "    if number > max :\n",
    "        max=number\n",
    "print(max)"
   ]
  },
  {
   "cell_type": "code",
   "execution_count": 6,
   "id": "2a18f4ec",
   "metadata": {},
   "outputs": [
    {
     "name": "stdout",
     "output_type": "stream",
     "text": [
      "[11, 1, 3, 4, 6, 7]\n",
      "[11, 1, 3, 4, 6, 7, 5]\n",
      "[11, 1, 3, 6, 7, 5]\n",
      "[11, 1, 3, 6, 5]\n",
      "[11, 6, 5, 3, 1]\n"
     ]
    }
   ],
   "source": [
    "numbers= [1,3,4,6,7]\n",
    "\n",
    "numbers.insert(0,11) #insert number in any postion you want\n",
    "print(numbers)\n",
    "\n",
    "numbers.append(5)  #ddd number in last list\n",
    "print(numbers)\n",
    "\n",
    "numbers.remove (4)\n",
    "print (numbers)\n",
    "\n",
    "numbers.pop(4) \n",
    "print(numbers)\n",
    "\n",
    "numbers.sort(reverse=True)\n",
    "print(numbers)\n"
   ]
  },
  {
   "cell_type": "code",
   "execution_count": 7,
   "id": "bf967a11",
   "metadata": {},
   "outputs": [
    {
     "name": "stdout",
     "output_type": "stream",
     "text": [
      "[0,0]\n",
      "[0,1]\n",
      "[0,2]\n",
      "[1,0]\n",
      "[1,1]\n",
      "[1,2]\n",
      "[2,0]\n",
      "[2,1]\n",
      "[2,2]\n",
      "[3,0]\n",
      "[3,1]\n",
      "[3,2]\n"
     ]
    }
   ],
   "source": [
    "#(x,y)\n",
    "for x in range(4):\n",
    "    for y in range(3):\n",
    "        print(f'[{x},{y}]') \n"
   ]
  },
  {
   "cell_type": "code",
   "execution_count": 14,
   "id": "1046449d",
   "metadata": {},
   "outputs": [
    {
     "name": "stdout",
     "output_type": "stream",
     "text": [
      "> RT\n",
      "I do'nt understand that\n"
     ]
    }
   ],
   "source": [
    "#help\n",
    "#Start \n",
    "#asd\n",
    "#Stop \n",
    "#quit \n",
    "\n",
    "word=input(\"> \").lower\n",
    "if word==\"help\":\n",
    "    print(\"start- to start car\")\n",
    "    print(\"stop- to stop car\")\n",
    "    print(\"quit- to exit\")\n",
    "elif word==\"start\":\n",
    "    print(\"car started ...Ready to go!\")\n",
    "elif word ==\"stop\" :\n",
    "    print(\"car stoped\")\n",
    "else :\n",
    "    print(\"I do'nt understand that\")\n"
   ]
  },
  {
   "cell_type": "code",
   "execution_count": 10,
   "id": "fd0815e8",
   "metadata": {},
   "outputs": [
    {
     "name": "stdout",
     "output_type": "stream",
     "text": [
      "xxxxx\n",
      "xx\n",
      "xxxxx\n",
      "xx\n",
      "xx\n"
     ]
    }
   ],
   "source": [
    "numbers=[5,2,5,2,2]\n",
    "n=\"x\"\n",
    "for num in numbers:\n",
    "    result=num * n\n",
    "    print(result)\n"
   ]
  },
  {
   "cell_type": "code",
   "execution_count": null,
   "id": "481309c6",
   "metadata": {},
   "outputs": [],
   "source": []
  }
 ],
 "metadata": {
  "kernelspec": {
   "display_name": "Python 3",
   "language": "python",
   "name": "python3"
  },
  "language_info": {
   "codemirror_mode": {
    "name": "ipython",
    "version": 3
   },
   "file_extension": ".py",
   "mimetype": "text/x-python",
   "name": "python",
   "nbconvert_exporter": "python",
   "pygments_lexer": "ipython3",
   "version": "3.8.8"
  }
 },
 "nbformat": 4,
 "nbformat_minor": 5
}
